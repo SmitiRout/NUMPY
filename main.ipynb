{
 "cells": [
  {
   "cell_type": "code",
   "execution_count": 1,
   "id": "3cedeacd-a32a-4cf7-8701-6859eec58120",
   "metadata": {},
   "outputs": [],
   "source": [
    "import numpy as np #alias -> np"
   ]
  },
  {
   "cell_type": "code",
   "execution_count": 2,
   "id": "28fb6e56-b7c4-4597-bb42-e0c06258a83b",
   "metadata": {},
   "outputs": [
    {
     "data": {
      "text/plain": [
       "array([1, 2, 3])"
      ]
     },
     "execution_count": 2,
     "metadata": {},
     "output_type": "execute_result"
    }
   ],
   "source": [
    "arr = np.array([1,2,3])\n",
    "arr"
   ]
  },
  {
   "cell_type": "code",
   "execution_count": 3,
   "id": "7bb17c26-2762-4e51-a8fd-286a75272b3a",
   "metadata": {},
   "outputs": [
    {
     "data": {
      "text/plain": [
       "1"
      ]
     },
     "execution_count": 3,
     "metadata": {},
     "output_type": "execute_result"
    }
   ],
   "source": [
    "# dimensions and shape of an array\n",
    "arr.ndim"
   ]
  },
  {
   "cell_type": "code",
   "execution_count": 4,
   "id": "1de090bc-2c0d-46f2-a266-92be5bf54e8d",
   "metadata": {},
   "outputs": [
    {
     "data": {
      "text/plain": [
       "0"
      ]
     },
     "execution_count": 4,
     "metadata": {},
     "output_type": "execute_result"
    }
   ],
   "source": [
    "arr =np.array(34)\n",
    "arr.ndim"
   ]
  },
  {
   "cell_type": "code",
   "execution_count": 5,
   "id": "02fc9714-3c1a-4543-848d-5837fef9bef8",
   "metadata": {},
   "outputs": [
    {
     "data": {
      "text/plain": [
       "(1, 1, 1, 0)"
      ]
     },
     "execution_count": 5,
     "metadata": {},
     "output_type": "execute_result"
    }
   ],
   "source": [
    "a = np.array([[[[]]]])\n",
    "a.ndim\n",
    "a.shape"
   ]
  },
  {
   "cell_type": "code",
   "execution_count": 6,
   "id": "79dfdbe0-0a63-437e-8dc5-08969bc60674",
   "metadata": {},
   "outputs": [],
   "source": [
    "range = np.arange(1,10, 2) #start, stop, step"
   ]
  },
  {
   "cell_type": "code",
   "execution_count": 7,
   "id": "47e57905-a332-4f42-8cad-7e91c645a8cb",
   "metadata": {},
   "outputs": [
    {
     "data": {
      "text/plain": [
       "array([1, 3, 5, 7, 9])"
      ]
     },
     "execution_count": 7,
     "metadata": {},
     "output_type": "execute_result"
    }
   ],
   "source": [
    "range"
   ]
  },
  {
   "cell_type": "code",
   "execution_count": 8,
   "id": "d11885e2-f318-4a35-97ae-bd460fbb3323",
   "metadata": {},
   "outputs": [
    {
     "data": {
      "text/plain": [
       "array([0.        , 0.11111111, 0.22222222, 0.33333333, 0.44444444,\n",
       "       0.55555556, 0.66666667, 0.77777778, 0.88888889, 1.        ])"
      ]
     },
     "execution_count": 8,
     "metadata": {},
     "output_type": "execute_result"
    }
   ],
   "source": [
    "arr = np.linspace(0,1,10) #start, stop, number of values\n",
    "arr"
   ]
  },
  {
   "cell_type": "code",
   "execution_count": 9,
   "id": "62f956f7-64a9-498a-8dbf-5c445788ede1",
   "metadata": {},
   "outputs": [
    {
     "data": {
      "text/plain": [
       "array([  10., 1000.])"
      ]
     },
     "execution_count": 9,
     "metadata": {},
     "output_type": "execute_result"
    }
   ],
   "source": [
    "arr = np.logspace(1, 3, 2) #logarithmic scale array -> 10^1 -> 10^3 ... 3 points\n",
    "arr"
   ]
  },
  {
   "cell_type": "code",
   "execution_count": 10,
   "id": "c91db50e-b0c3-4349-8f60-77984b8f8877",
   "metadata": {},
   "outputs": [],
   "source": [
    "# np.logspace(start, ending -> powers, 3 -> number of values)"
   ]
  },
  {
   "cell_type": "code",
   "execution_count": 11,
   "id": "2dceb82e-557c-44c7-86e3-fb2f4fbe8acc",
   "metadata": {},
   "outputs": [
    {
     "data": {
      "text/plain": [
       "array([0., 0., 0., 0., 0.])"
      ]
     },
     "execution_count": 11,
     "metadata": {},
     "output_type": "execute_result"
    }
   ],
   "source": [
    "# np.zeros -> array full of zeros\n",
    "arr = np.zeros(5)\n",
    "arr"
   ]
  },
  {
   "cell_type": "code",
   "execution_count": 12,
   "id": "f6a0321c-d216-4ce2-ad70-5cd9fea33076",
   "metadata": {},
   "outputs": [
    {
     "data": {
      "text/plain": [
       "array([[0., 0., 0.],\n",
       "       [0., 0., 0.]])"
      ]
     },
     "execution_count": 12,
     "metadata": {},
     "output_type": "execute_result"
    }
   ],
   "source": [
    "arr = np.zeros([2,3]) #array full of zeros\n",
    "arr\n"
   ]
  },
  {
   "cell_type": "code",
   "execution_count": 13,
   "id": "9958963f-aca4-40b3-9b72-b3efa85bf532",
   "metadata": {},
   "outputs": [
    {
     "data": {
      "text/plain": [
       "array([[1., 1.],\n",
       "       [1., 1.],\n",
       "       [1., 1.],\n",
       "       [1., 1.]])"
      ]
     },
     "execution_count": 13,
     "metadata": {},
     "output_type": "execute_result"
    }
   ],
   "source": [
    "arr = np.ones([4,2]) #array full of ones.\n",
    "arr"
   ]
  },
  {
   "cell_type": "code",
   "execution_count": 14,
   "id": "4ed6cf84-9d4f-4601-a4c4-3ec836055c2c",
   "metadata": {},
   "outputs": [
    {
     "data": {
      "text/plain": [
       "array([[1., 1.],\n",
       "       [1., 1.],\n",
       "       [1., 1.],\n",
       "       [1., 1.]])"
      ]
     },
     "execution_count": 14,
     "metadata": {},
     "output_type": "execute_result"
    }
   ],
   "source": [
    "rr = np.full(10, 2) #-> create an array full of any value\n",
    "arr"
   ]
  },
  {
   "cell_type": "code",
   "execution_count": 15,
   "id": "84387b63-69ca-468a-9380-82fdd4e42c46",
   "metadata": {},
   "outputs": [
    {
     "data": {
      "text/plain": [
       "array([[7.1, 7.1, 7.1, 7.1],\n",
       "       [7.1, 7.1, 7.1, 7.1]])"
      ]
     },
     "execution_count": 15,
     "metadata": {},
     "output_type": "execute_result"
    }
   ],
   "source": [
    "arr = np.full([2,4], 7.1) #[row, column], default value\n",
    "arr"
   ]
  },
  {
   "cell_type": "code",
   "execution_count": 16,
   "id": "58658cba-ea27-456c-b81b-c4f2abc0088e",
   "metadata": {},
   "outputs": [
    {
     "data": {
      "text/plain": [
       "array([[0., 0., 0.],\n",
       "       [0., 0., 0.]])"
      ]
     },
     "execution_count": 16,
     "metadata": {},
     "output_type": "execute_result"
    }
   ],
   "source": [
    "arr = np.empty([2,3]) #Uninitialized array -> create an array without setting any values\n",
    "arr"
   ]
  },
  {
   "cell_type": "code",
   "execution_count": 17,
   "id": "81cea810-1373-473e-995b-23f432f1f929",
   "metadata": {},
   "outputs": [
    {
     "data": {
      "text/plain": [
       "array([0.32194531, 0.35680216, 0.72762458, 0.10799897, 0.20063494,\n",
       "       0.44329827, 0.20673384, 0.01253537, 0.01966962, 0.93213866])"
      ]
     },
     "execution_count": 17,
     "metadata": {},
     "output_type": "execute_result"
    }
   ],
   "source": [
    "arr = np.random.rand(10)\n",
    "arr #-> random floats(0 to 1)"
   ]
  },
  {
   "cell_type": "code",
   "execution_count": 18,
   "id": "77a222a2-43b6-4bcb-82a0-a731d641cd46",
   "metadata": {},
   "outputs": [
    {
     "data": {
      "text/plain": [
       "array([[0.45614406, 0.20297702, 0.29925183],\n",
       "       [0.60022335, 0.67557745, 0.90301697]])"
      ]
     },
     "execution_count": 18,
     "metadata": {},
     "output_type": "execute_result"
    }
   ],
   "source": [
    "arr = np.random.rand(2,3)\n",
    "arr"
   ]
  },
  {
   "cell_type": "code",
   "execution_count": 19,
   "id": "cb1b6dd0-9e9f-4384-868e-6ba0ee489074",
   "metadata": {},
   "outputs": [
    {
     "data": {
      "text/plain": [
       "array([[ 0.82051514, -1.10686891, -1.07308204],\n",
       "       [-2.19612288,  1.09004026, -0.27329672]])"
      ]
     },
     "execution_count": 19,
     "metadata": {},
     "output_type": "execute_result"
    }
   ],
   "source": [
    "arr = np.random.randn(2,3)\n",
    "arr #-> random floats from standard normal distribution"
   ]
  },
  {
   "cell_type": "code",
   "execution_count": 20,
   "id": "87ded58c-2af5-43a6-aead-394444e4c1d2",
   "metadata": {},
   "outputs": [
    {
     "data": {
      "text/plain": [
       "77"
      ]
     },
     "execution_count": 20,
     "metadata": {},
     "output_type": "execute_result"
    }
   ],
   "source": [
    "arr = np.random.randint(10, 100) #->start, stop, dimension/number of values\n",
    "arr#-> random integers"
   ]
  },
  {
   "cell_type": "code",
   "execution_count": 21,
   "id": "9e76b6fd-9ef5-4544-b8cd-04e7dad92e9c",
   "metadata": {},
   "outputs": [
    {
     "data": {
      "text/plain": [
       "array([[58, 20, 90],\n",
       "       [68, 66, 16]], dtype=int32)"
      ]
     },
     "execution_count": 21,
     "metadata": {},
     "output_type": "execute_result"
    }
   ],
   "source": [
    "arr = np.random.randint(10, 100, size = (2,3)) #->start, stop, dimension/number of values\n",
    "arr"
   ]
  },
  {
   "cell_type": "code",
   "execution_count": 22,
   "id": "f679509b-5dea-4c6a-b02f-554166e0794f",
   "metadata": {},
   "outputs": [
    {
     "data": {
      "text/plain": [
       "array([1. , 2. , 3.1, 4. , 5. ])"
      ]
     },
     "execution_count": 22,
     "metadata": {},
     "output_type": "execute_result"
    }
   ],
   "source": [
    "arr = np.array([1,2,3.1,4,5])\n",
    "arr"
   ]
  },
  {
   "cell_type": "code",
   "execution_count": 23,
   "id": "837ac347-2f0f-4c41-a7b5-a8e3c1611c98",
   "metadata": {},
   "outputs": [
    {
     "data": {
      "text/plain": [
       "dtype('float64')"
      ]
     },
     "execution_count": 23,
     "metadata": {},
     "output_type": "execute_result"
    }
   ],
   "source": [
    "arr.dtype"
   ]
  },
  {
   "cell_type": "code",
   "execution_count": 24,
   "id": "f00918bc-68e3-4e32-b699-c9a3c9d1f3a0",
   "metadata": {},
   "outputs": [
    {
     "data": {
      "text/plain": [
       "array(['string', '1', '2', '5.6'], dtype='<U32')"
      ]
     },
     "execution_count": 24,
     "metadata": {},
     "output_type": "execute_result"
    }
   ],
   "source": [
    "lst = [\"string\", 1, 2, 5.6]\n",
    "arr = np.array(lst)\n",
    "arr"
   ]
  },
  {
   "cell_type": "code",
   "execution_count": 25,
   "id": "9a0665b6-157d-4832-bf51-ab19083ded72",
   "metadata": {},
   "outputs": [
    {
     "data": {
      "text/plain": [
       "array(['1', '2', '3.1', '4', '5'], dtype='<U32')"
      ]
     },
     "execution_count": 25,
     "metadata": {},
     "output_type": "execute_result"
    }
   ],
   "source": [
    "arr = np.array([\"1\",2,3.1,4,5])\n",
    "arr"
   ]
  },
  {
   "cell_type": "code",
   "execution_count": 26,
   "id": "38796b28-5584-4c66-b8a8-c5900f2cb130",
   "metadata": {},
   "outputs": [
    {
     "data": {
      "text/plain": [
       "dtype('<U32')"
      ]
     },
     "execution_count": 26,
     "metadata": {},
     "output_type": "execute_result"
    }
   ],
   "source": [
    "arr.dtype"
   ]
  },
  {
   "cell_type": "code",
   "execution_count": 27,
   "id": "9808a17b-6946-4747-8a0e-f99df4a174d9",
   "metadata": {},
   "outputs": [],
   "source": [
    "arr = np.array([1.1, 2.6 , 3 , 4], dtype = np.int64)"
   ]
  },
  {
   "cell_type": "code",
   "execution_count": 28,
   "id": "615d3d4e-4273-4bad-b8f7-f63c427d0269",
   "metadata": {},
   "outputs": [
    {
     "data": {
      "text/plain": [
       "dtype('int64')"
      ]
     },
     "execution_count": 28,
     "metadata": {},
     "output_type": "execute_result"
    }
   ],
   "source": [
    "arr.dtype"
   ]
  },
  {
   "cell_type": "code",
   "execution_count": 29,
   "id": "4d2f4039-186b-4c09-a32f-eb28592cb1e3",
   "metadata": {},
   "outputs": [
    {
     "data": {
      "text/plain": [
       "array([1, 2, 3, 4])"
      ]
     },
     "execution_count": 29,
     "metadata": {},
     "output_type": "execute_result"
    }
   ],
   "source": [
    "arr"
   ]
  },
  {
   "cell_type": "code",
   "execution_count": 30,
   "id": "a4f91630-0480-4b53-8395-d94509f7ced9",
   "metadata": {},
   "outputs": [
    {
     "data": {
      "text/plain": [
       "dtype('int64')"
      ]
     },
     "execution_count": 30,
     "metadata": {},
     "output_type": "execute_result"
    }
   ],
   "source": [
    "arr = np.array([1,2,3])\n",
    "arr.dtype"
   ]
  },
  {
   "cell_type": "code",
   "execution_count": 31,
   "id": "5a19749d-c319-4956-8f50-644b7be907e8",
   "metadata": {},
   "outputs": [
    {
     "data": {
      "text/plain": [
       "array([1., 2., 3.])"
      ]
     },
     "execution_count": 31,
     "metadata": {},
     "output_type": "execute_result"
    }
   ],
   "source": [
    "new_arr = arr.astype(np.float64)\n",
    "new_arr"
   ]
  },
  {
   "cell_type": "code",
   "execution_count": 32,
   "id": "ee4bf5b3-5a6b-4a73-b6b6-fd449e93dbd8",
   "metadata": {},
   "outputs": [
    {
     "data": {
      "text/plain": [
       "dtype('float64')"
      ]
     },
     "execution_count": 32,
     "metadata": {},
     "output_type": "execute_result"
    }
   ],
   "source": [
    "new_arr.dtype"
   ]
  },
  {
   "cell_type": "code",
   "execution_count": 33,
   "id": "ac1dec46-e938-4b96-9ef2-3031dc518fc2",
   "metadata": {},
   "outputs": [
    {
     "data": {
      "text/plain": [
       "array([1, 2, 3])"
      ]
     },
     "execution_count": 33,
     "metadata": {},
     "output_type": "execute_result"
    }
   ],
   "source": [
    "new_arr2 = new_arr.astype(np.int64)\n",
    "new_arr2"
   ]
  },
  {
   "cell_type": "code",
   "execution_count": 35,
   "id": "01641482-a9f0-4b50-a5a3-bae0392e7d56",
   "metadata": {},
   "outputs": [
    {
     "name": "stdout",
     "output_type": "stream",
     "text": [
      "[1 2 0]\n"
     ]
    }
   ],
   "source": [
    "# Type Casting errors:\n",
    "\n",
    "arr = np.array([\"1\", \"2\", \"hello\"])\n",
    "arr_fixed = np.where(np.char.isnumeric(arr), arr, \"0\").astype(np.int64)\n",
    "print(arr_fixed)\n",
    "\n"
   ]
  },
  {
   "cell_type": "code",
   "execution_count": 36,
   "id": "d9c1a101-66b2-43fa-969d-3343d652f508",
   "metadata": {},
   "outputs": [],
   "source": [
    "arr = np.array([[1,2,3],\n",
    "                [4,5,6]])"
   ]
  },
  {
   "cell_type": "code",
   "execution_count": 37,
   "id": "2618ea92-3dc1-4ac2-ab68-078a5ca43985",
   "metadata": {},
   "outputs": [
    {
     "data": {
      "text/plain": [
       "array([[1, 2, 3],\n",
       "       [4, 5, 6]])"
      ]
     },
     "execution_count": 37,
     "metadata": {},
     "output_type": "execute_result"
    }
   ],
   "source": [
    "arr"
   ]
  },
  {
   "cell_type": "code",
   "execution_count": 38,
   "id": "afaca012-dfd9-406a-b2e9-fafcb7d88e1b",
   "metadata": {},
   "outputs": [
    {
     "data": {
      "text/plain": [
       "2"
      ]
     },
     "execution_count": 38,
     "metadata": {},
     "output_type": "execute_result"
    }
   ],
   "source": [
    "arr.ndim"
   ]
  },
  {
   "cell_type": "code",
   "execution_count": 39,
   "id": "d0a823a8-37d8-402f-8306-11685bb0ee16",
   "metadata": {},
   "outputs": [
    {
     "data": {
      "text/plain": [
       "(2, 3)"
      ]
     },
     "execution_count": 39,
     "metadata": {},
     "output_type": "execute_result"
    }
   ],
   "source": [
    "arr.shape"
   ]
  },
  {
   "cell_type": "code",
   "execution_count": 40,
   "id": "34a33c00-95f4-415b-a0bb-3f9b5ce08eda",
   "metadata": {},
   "outputs": [
    {
     "data": {
      "text/plain": [
       "6"
      ]
     },
     "execution_count": 40,
     "metadata": {},
     "output_type": "execute_result"
    }
   ],
   "source": [
    "arr.size"
   ]
  },
  {
   "cell_type": "code",
   "execution_count": 41,
   "id": "4a6ff242-dd82-4f7f-846a-0e9b1a1ebde4",
   "metadata": {},
   "outputs": [
    {
     "data": {
      "text/plain": [
       "8"
      ]
     },
     "execution_count": 41,
     "metadata": {},
     "output_type": "execute_result"
    }
   ],
   "source": [
    "arr.itemsize"
   ]
  },
  {
   "cell_type": "code",
   "execution_count": 42,
   "id": "a48bf9ba-032a-4a95-9d20-8fa3637b6a4c",
   "metadata": {},
   "outputs": [
    {
     "name": "stdout",
     "output_type": "stream",
     "text": [
      "[[1 2 3]\n",
      " [4 5 6]]\n"
     ]
    }
   ],
   "source": [
    "# Reshape\n",
    "arr = np.array([1,2,3,4,5,6])\n",
    "reshaped = arr.reshape(2,3)\n",
    "print(reshaped)"
   ]
  },
  {
   "cell_type": "code",
   "execution_count": 43,
   "id": "b3e1415f-b030-4571-b3a7-5811976c99aa",
   "metadata": {},
   "outputs": [],
   "source": [
    "reshape2 = reshaped.reshape(3,2)"
   ]
  },
  {
   "cell_type": "code",
   "execution_count": 44,
   "id": "d4bd3081-1852-40b9-bcd3-918ad740cbe3",
   "metadata": {},
   "outputs": [
    {
     "data": {
      "text/plain": [
       "array([[1, 2],\n",
       "       [3, 4],\n",
       "       [5, 6]])"
      ]
     },
     "execution_count": 44,
     "metadata": {},
     "output_type": "execute_result"
    }
   ],
   "source": [
    "reshape2"
   ]
  },
  {
   "cell_type": "code",
   "execution_count": 45,
   "id": "91b26920-53e7-4552-8f80-fbed6f7dd00f",
   "metadata": {},
   "outputs": [
    {
     "data": {
      "text/plain": [
       "array([1, 2, 3, 4, 5, 6])"
      ]
     },
     "execution_count": 45,
     "metadata": {},
     "output_type": "execute_result"
    }
   ],
   "source": [
    "#ravel -> convert 1D array\n",
    "ravel = reshape2.ravel()\n",
    "ravel"
   ]
  },
  {
   "cell_type": "code",
   "execution_count": 46,
   "id": "7f5991e3-8dc0-4356-8e4f-28671b8d187d",
   "metadata": {},
   "outputs": [
    {
     "name": "stdout",
     "output_type": "stream",
     "text": [
      "[100   2   3   4   5   6]\n",
      "[[100   2]\n",
      " [  3   4]\n",
      " [  5   6]]\n"
     ]
    }
   ],
   "source": [
    "ravel[0] = 100\n",
    "print(ravel)\n",
    "print(reshape2)"
   ]
  },
  {
   "cell_type": "code",
   "execution_count": 47,
   "id": "e546c695-fcb4-4523-912e-80e11559cf8b",
   "metadata": {},
   "outputs": [
    {
     "data": {
      "text/plain": [
       "array([100,   2,   3,   4,   5,   6])"
      ]
     },
     "execution_count": 47,
     "metadata": {},
     "output_type": "execute_result"
    }
   ],
   "source": [
    "#flatten -> to 1D array\n",
    "# -> returns a copy of the array\n",
    "\n",
    "flat = reshape2.flatten()\n",
    "flat"
   ]
  },
  {
   "cell_type": "code",
   "execution_count": 48,
   "id": "bb8961f5-f6ea-4410-a3f2-0c03787b67e7",
   "metadata": {},
   "outputs": [],
   "source": [
    "flat[0] = 1"
   ]
  },
  {
   "cell_type": "code",
   "execution_count": 49,
   "id": "d5ee4796-1b86-4d5d-980d-1a614e150158",
   "metadata": {},
   "outputs": [
    {
     "data": {
      "text/plain": [
       "array([1, 2, 3, 4, 5, 6])"
      ]
     },
     "execution_count": 49,
     "metadata": {},
     "output_type": "execute_result"
    }
   ],
   "source": [
    "flat"
   ]
  },
  {
   "cell_type": "code",
   "execution_count": 50,
   "id": "514077d5-7413-4dcc-b199-bcb6e53ca73c",
   "metadata": {},
   "outputs": [
    {
     "data": {
      "text/plain": [
       "array([[100,   2],\n",
       "       [  3,   4],\n",
       "       [  5,   6]])"
      ]
     },
     "execution_count": 50,
     "metadata": {},
     "output_type": "execute_result"
    }
   ],
   "source": [
    "reshape2"
   ]
  },
  {
   "cell_type": "code",
   "execution_count": 52,
   "id": "bfcb1f8c-fd19-4d62-9814-f82b31239f97",
   "metadata": {},
   "outputs": [],
   "source": [
    "a = np.array([1,2,3])\n",
    "b = np.array([4,5,6])\n"
   ]
  },
  {
   "cell_type": "code",
   "execution_count": 53,
   "id": "f4427823-b815-4148-b2bb-b29102ea4049",
   "metadata": {},
   "outputs": [
    {
     "name": "stdout",
     "output_type": "stream",
     "text": [
      "[5 7 9]\n"
     ]
    }
   ],
   "source": [
    "#addition:\n",
    "\n",
    "print(a+b)"
   ]
  },
  {
   "cell_type": "code",
   "execution_count": 54,
   "id": "03b7cc79-96a7-49a0-85e2-0e587287c95d",
   "metadata": {},
   "outputs": [
    {
     "name": "stdout",
     "output_type": "stream",
     "text": [
      "[3 3 3]\n"
     ]
    }
   ],
   "source": [
    "# subtraction\n",
    "print(b-a)"
   ]
  },
  {
   "cell_type": "code",
   "execution_count": 55,
   "id": "e618d994-405e-4d4c-be9f-b2cd42a395f7",
   "metadata": {},
   "outputs": [
    {
     "name": "stdout",
     "output_type": "stream",
     "text": [
      "[0.25 0.4  0.5 ]\n"
     ]
    }
   ],
   "source": [
    "#division:\n",
    "print(a/b)"
   ]
  },
  {
   "cell_type": "code",
   "execution_count": 56,
   "id": "807c7aaa-9200-43e5-9c83-252ba14d961f",
   "metadata": {},
   "outputs": [
    {
     "name": "stdout",
     "output_type": "stream",
     "text": [
      "[4 2 2]\n"
     ]
    }
   ],
   "source": [
    "# integer division\n",
    "print(b//a)"
   ]
  },
  {
   "cell_type": "code",
   "execution_count": 57,
   "id": "274479c3-4d4b-4d9d-bae0-459010411b52",
   "metadata": {},
   "outputs": [
    {
     "name": "stdout",
     "output_type": "stream",
     "text": [
      "[ 4 10 18]\n"
     ]
    }
   ],
   "source": [
    "#multiplication\n",
    "print(a*b)"
   ]
  },
  {
   "cell_type": "code",
   "execution_count": 58,
   "id": "e09bec46-1461-400a-b940-bb69f5b46bc0",
   "metadata": {},
   "outputs": [
    {
     "name": "stdout",
     "output_type": "stream",
     "text": [
      "[0 1 0]\n"
     ]
    }
   ],
   "source": [
    "#modulus -> remainder\n",
    "print(b%a)"
   ]
  },
  {
   "cell_type": "code",
   "execution_count": 59,
   "id": "ccf33114-905a-4b4f-8e30-0adde1c7c40c",
   "metadata": {},
   "outputs": [
    {
     "name": "stdout",
     "output_type": "stream",
     "text": [
      "[1 4 9]\n"
     ]
    }
   ],
   "source": [
    "# exponent -> power\n",
    "print(a**2)"
   ]
  },
  {
   "cell_type": "code",
   "execution_count": 60,
   "id": "c026cb45-5927-4738-a741-5a9d7e9cb0cb",
   "metadata": {},
   "outputs": [],
   "source": [
    "#universalfunction\n",
    "\n",
    "arr = np.array([1,4,9,16])"
   ]
  },
  {
   "cell_type": "code",
   "execution_count": 61,
   "id": "3a600f46-eaf7-48f2-b52c-b47f9db2f07f",
   "metadata": {},
   "outputs": [
    {
     "name": "stdout",
     "output_type": "stream",
     "text": [
      "[1. 2. 3. 4.]\n"
     ]
    }
   ],
   "source": [
    "# Square root -> np.sqrt()\n",
    "\n",
    "print(np.sqrt(arr))"
   ]
  },
  {
   "cell_type": "code",
   "execution_count": 62,
   "id": "be639fa9-44ea-4c1f-af55-4924e1cce534",
   "metadata": {},
   "outputs": [
    {
     "name": "stdout",
     "output_type": "stream",
     "text": [
      "[2.71828183 7.3890561 ]\n"
     ]
    }
   ],
   "source": [
    "# exponentioal -> np.exp -> e^x -> x is any integer\n",
    "\n",
    "print(np.exp([1,2]))"
   ]
  },
  {
   "cell_type": "code",
   "execution_count": 63,
   "id": "a569d2ab-bb11-455b-80cf-8b0d765a5787",
   "metadata": {},
   "outputs": [
    {
     "name": "stdout",
     "output_type": "stream",
     "text": [
      "[0.0000000e+00 1.0000000e+00 1.2246468e-16]\n"
     ]
    }
   ],
   "source": [
    "#sine function -> np.sin\n",
    "\n",
    "angles = np.array([0, np.pi/2, np.pi])\n",
    "print(np.sin(angles))"
   ]
  },
  {
   "cell_type": "code",
   "execution_count": 64,
   "id": "11519d8a-0b79-4ab8-8c89-40506b485f8d",
   "metadata": {},
   "outputs": [],
   "source": [
    "#indexing and slicing\n",
    "\n",
    "a = [1,2,3,4,5]"
   ]
  },
  {
   "cell_type": "code",
   "execution_count": 65,
   "id": "69ac30fd-0bd1-4774-ad7b-d90fcc860b90",
   "metadata": {},
   "outputs": [
    {
     "data": {
      "text/plain": [
       "[5, 4, 3]"
      ]
     },
     "execution_count": 65,
     "metadata": {},
     "output_type": "execute_result"
    }
   ],
   "source": [
    "a[-1:-4: -1]"
   ]
  },
  {
   "cell_type": "code",
   "execution_count": 66,
   "id": "07a66c62-a5f6-487b-8cc0-e83b41c19656",
   "metadata": {},
   "outputs": [
    {
     "data": {
      "text/plain": [
       "[1, 3, 5]"
      ]
     },
     "execution_count": 66,
     "metadata": {},
     "output_type": "execute_result"
    }
   ],
   "source": [
    "a[: :2]"
   ]
  },
  {
   "cell_type": "code",
   "execution_count": 67,
   "id": "66cd757d-9ec2-43f3-bf3c-51b444090737",
   "metadata": {},
   "outputs": [
    {
     "data": {
      "text/plain": [
       "array([10, 30, 50])"
      ]
     },
     "execution_count": 67,
     "metadata": {},
     "output_type": "execute_result"
    }
   ],
   "source": [
    "arr = np.array([10,20,30,40,50])\n",
    "# indexes = 0, 2, 4\n",
    "arr[::2]"
   ]
  },
  {
   "cell_type": "code",
   "execution_count": 68,
   "id": "860acbb0-3c92-4cf0-b66a-b1b0ea1464a4",
   "metadata": {},
   "outputs": [
    {
     "name": "stdout",
     "output_type": "stream",
     "text": [
      "50\n"
     ]
    }
   ],
   "source": [
    "# Negative Indexing\n",
    "print(arr[-1])"
   ]
  },
  {
   "cell_type": "code",
   "execution_count": 69,
   "id": "d8864859-3824-45b2-bb5e-e0e256db4976",
   "metadata": {},
   "outputs": [],
   "source": [
    "matrix = np.array([[1,2,3],\n",
    "                  [4,5,6],\n",
    "                  [7,8,9]])"
   ]
  },
  {
   "cell_type": "code",
   "execution_count": 70,
   "id": "67a4a52d-50f6-4235-9e23-0bfa33a7954a",
   "metadata": {},
   "outputs": [
    {
     "name": "stdout",
     "output_type": "stream",
     "text": [
      "[[1 2 3]\n",
      " [4 5 6]]\n"
     ]
    }
   ],
   "source": [
    "print(matrix[0:2, :])"
   ]
  },
  {
   "cell_type": "code",
   "execution_count": 71,
   "id": "8ac179aa-c2c8-4829-abdc-1055e5739325",
   "metadata": {},
   "outputs": [
    {
     "name": "stdout",
     "output_type": "stream",
     "text": [
      "[[5 6]\n",
      " [8 9]]\n"
     ]
    }
   ],
   "source": [
    "print(matrix[1: , 1:])"
   ]
  },
  {
   "cell_type": "code",
   "execution_count": 72,
   "id": "829aeae9-79fd-449c-8e36-7db653ae5688",
   "metadata": {},
   "outputs": [
    {
     "name": "stdout",
     "output_type": "stream",
     "text": [
      "[10 30]\n"
     ]
    }
   ],
   "source": [
    "#np.take -> built in function to perform indexing and slicing\n",
    "arr = np.array([10,20,30,40,50])\n",
    "ind = [0, 2]\n",
    "print(np.take(arr, ind))"
   ]
  },
  {
   "cell_type": "code",
   "execution_count": 73,
   "id": "85cb2a61-e1ac-4c96-8eec-c6105e5497ab",
   "metadata": {},
   "outputs": [],
   "source": [
    "# Iterating with nditer()"
   ]
  },
  {
   "cell_type": "code",
   "execution_count": 74,
   "id": "f6b4a6ea-8906-4986-9d1f-39f7a3c2ccc2",
   "metadata": {},
   "outputs": [],
   "source": [
    "arr= np.array([[1,2], [3,4]])"
   ]
  },
  {
   "cell_type": "code",
   "execution_count": 75,
   "id": "5a74e763-8df6-4056-b334-dda4546704d1",
   "metadata": {},
   "outputs": [
    {
     "name": "stdout",
     "output_type": "stream",
     "text": [
      "1 2 3 4 "
     ]
    }
   ],
   "source": [
    "for x in np.nditer(arr):\n",
    "  print(x, end = \" \")"
   ]
  },
  {
   "cell_type": "code",
   "execution_count": 76,
   "id": "ed9b936b-db8c-4142-8790-3f605259d8ae",
   "metadata": {},
   "outputs": [
    {
     "name": "stdout",
     "output_type": "stream",
     "text": [
      "(0, 0) 1\n",
      "(0, 1) 2\n",
      "(1, 0) 3\n",
      "(1, 1) 4\n"
     ]
    }
   ],
   "source": [
    "# ndenumerate() -> both index + value\n",
    "\n",
    "for ind, x in np.ndenumerate(arr):\n",
    "  print(ind, x)\n",
    "\n"
   ]
  },
  {
   "cell_type": "code",
   "execution_count": 77,
   "id": "7028299b-2254-46ea-912c-2b6992ccabcd",
   "metadata": {},
   "outputs": [
    {
     "data": {
      "text/plain": [
       "array([2, 3])"
      ]
     },
     "execution_count": 77,
     "metadata": {},
     "output_type": "execute_result"
    }
   ],
   "source": [
    "# Views vs Copies\n",
    "\n",
    "arr = np.array([1,2,3,4,5])\n",
    "view = arr[1:3]\n",
    "view"
   ]
  },
  {
   "cell_type": "code",
   "execution_count": 78,
   "id": "bf9cd51a-acf2-4b7e-8865-216ebfe22605",
   "metadata": {},
   "outputs": [],
   "source": [
    "view[0] = 200"
   ]
  },
  {
   "cell_type": "code",
   "execution_count": 79,
   "id": "22595d77-24ed-4213-b5de-2884af17a785",
   "metadata": {},
   "outputs": [
    {
     "data": {
      "text/plain": [
       "array([200,   3])"
      ]
     },
     "execution_count": 79,
     "metadata": {},
     "output_type": "execute_result"
    }
   ],
   "source": [
    "view\n"
   ]
  },
  {
   "cell_type": "code",
   "execution_count": 80,
   "id": "63c81367-2acc-4e1e-a549-285cb518197c",
   "metadata": {},
   "outputs": [
    {
     "data": {
      "text/plain": [
       "array([  1, 200,   3,   4,   5])"
      ]
     },
     "execution_count": 80,
     "metadata": {},
     "output_type": "execute_result"
    }
   ],
   "source": [
    "arr\n"
   ]
  },
  {
   "cell_type": "code",
   "execution_count": 81,
   "id": "9c765d54-e0f0-4045-b28a-aa71f7231bff",
   "metadata": {},
   "outputs": [
    {
     "data": {
      "text/plain": [
       "array([[1, 2],\n",
       "       [3, 4]])"
      ]
     },
     "execution_count": 81,
     "metadata": {},
     "output_type": "execute_result"
    }
   ],
   "source": [
    "\n",
    "arr = np.array([[1,2], [3,4]])\n",
    "arr\n"
   ]
  },
  {
   "cell_type": "code",
   "execution_count": 82,
   "id": "08858143-a9cc-4036-a81c-af66c75315f6",
   "metadata": {},
   "outputs": [
    {
     "name": "stdout",
     "output_type": "stream",
     "text": [
      "[[1 3]\n",
      " [2 4]]\n"
     ]
    }
   ],
   "source": [
    "print(arr.transpose())"
   ]
  },
  {
   "cell_type": "code",
   "execution_count": 83,
   "id": "abd122ae-1597-4d43-9ceb-5457c50bafb9",
   "metadata": {},
   "outputs": [
    {
     "data": {
      "text/plain": [
       "(1, 2, 2)"
      ]
     },
     "execution_count": 83,
     "metadata": {},
     "output_type": "execute_result"
    }
   ],
   "source": [
    "# Swapaxes -> swap 2 specific axes in a matrix.\n",
    "\n",
    "arr = np.array([[[1,2], [3,4]]])\n",
    "arr.shape"
   ]
  },
  {
   "cell_type": "code",
   "execution_count": 84,
   "id": "5e2535be-e817-46ad-af6c-8d6c4655b557",
   "metadata": {},
   "outputs": [
    {
     "data": {
      "text/plain": [
       "(2, 1, 2)"
      ]
     },
     "execution_count": 84,
     "metadata": {},
     "output_type": "execute_result"
    }
   ],
   "source": [
    "swap = np.swapaxes(arr, 0, 1)\n",
    "swap.shape"
   ]
  },
  {
   "cell_type": "code",
   "execution_count": 85,
   "id": "6c6cd3c5-b350-4170-a1b3-2c0abe65368b",
   "metadata": {},
   "outputs": [],
   "source": [
    "# Concatenation:\n",
    "\n",
    "a = np.array([1,2])\n",
    "b = np.array([3,4])"
   ]
  },
  {
   "cell_type": "code",
   "execution_count": 86,
   "id": "cdf1673f-3786-4741-98b9-966facb371ad",
   "metadata": {},
   "outputs": [
    {
     "data": {
      "text/plain": [
       "array([1, 2, 3, 4])"
      ]
     },
     "execution_count": 86,
     "metadata": {},
     "output_type": "execute_result"
    }
   ],
   "source": [
    "combine = np.concatenate((a,b))\n",
    "combine"
   ]
  },
  {
   "cell_type": "code",
   "execution_count": 87,
   "id": "2f4fb5ba-56a6-4ab8-8666-6e4844f1b114",
   "metadata": {},
   "outputs": [],
   "source": [
    "arr1 = np.array([[1,2], [3,4]])\n",
    "arr2 = np.array([[5,6], [7,8]])"
   ]
  },
  {
   "cell_type": "code",
   "execution_count": 88,
   "id": "704b875b-621c-46fe-b1d5-941e240c80be",
   "metadata": {},
   "outputs": [
    {
     "name": "stdout",
     "output_type": "stream",
     "text": [
      "[[1 2]\n",
      " [3 4]\n",
      " [5 6]\n",
      " [7 8]]\n"
     ]
    }
   ],
   "source": [
    "print(np.vstack((arr1, arr2)))"
   ]
  },
  {
   "cell_type": "code",
   "execution_count": 89,
   "id": "69daedca-f1e0-4fd1-b36a-4e18fa8204db",
   "metadata": {},
   "outputs": [
    {
     "name": "stdout",
     "output_type": "stream",
     "text": [
      "[[1 2 5 6]\n",
      " [3 4 7 8]]\n"
     ]
    }
   ],
   "source": [
    "print(np.hstack((arr1, arr2)))"
   ]
  },
  {
   "cell_type": "code",
   "execution_count": 90,
   "id": "a655f1fc-c4e7-492e-8eb5-6ba1f4235617",
   "metadata": {},
   "outputs": [
    {
     "name": "stdout",
     "output_type": "stream",
     "text": [
      "[[[1 2]\n",
      "  [3 4]]\n",
      "\n",
      " [[5 6]\n",
      "  [7 8]]]\n"
     ]
    }
   ],
   "source": [
    "print(np.stack((arr1, arr2), axis = 0))"
   ]
  },
  {
   "cell_type": "code",
   "execution_count": 91,
   "id": "b9cb7d91-efac-476b-9694-01a907efe7a8",
   "metadata": {},
   "outputs": [
    {
     "name": "stdout",
     "output_type": "stream",
     "text": [
      "[[[1 2]\n",
      "  [5 6]]\n",
      "\n",
      " [[3 4]\n",
      "  [7 8]]]\n"
     ]
    }
   ],
   "source": [
    "print(np.stack((arr1, arr2), axis = 1))"
   ]
  },
  {
   "cell_type": "code",
   "execution_count": 92,
   "id": "186644dd-39b0-4073-a7b5-77d5e847162b",
   "metadata": {},
   "outputs": [],
   "source": [
    "# Splitting Arrays:\n",
    "\n",
    "arr1 = np.array([[1,2], [3,4], [5,6], [7,8]])"
   ]
  },
  {
   "cell_type": "code",
   "execution_count": 93,
   "id": "f3d92116-75bc-4803-ac52-1975974b7bed",
   "metadata": {},
   "outputs": [
    {
     "data": {
      "text/plain": [
       "array([[1, 2],\n",
       "       [3, 4],\n",
       "       [5, 6],\n",
       "       [7, 8]])"
      ]
     },
     "execution_count": 93,
     "metadata": {},
     "output_type": "execute_result"
    }
   ],
   "source": [
    "arr1\n"
   ]
  },
  {
   "cell_type": "code",
   "execution_count": 94,
   "id": "1fb8244d-0473-4bd2-a103-85bebd4db78b",
   "metadata": {},
   "outputs": [
    {
     "name": "stdout",
     "output_type": "stream",
     "text": [
      "[array([[1, 2]]), array([[3, 4]]), array([[5, 6]]), array([[7, 8]])]\n"
     ]
    }
   ],
   "source": [
    "print(np.split(arr1, 4))"
   ]
  },
  {
   "cell_type": "code",
   "execution_count": 95,
   "id": "8f4d7750-a733-43be-9485-a476ea26ac85",
   "metadata": {},
   "outputs": [
    {
     "name": "stdout",
     "output_type": "stream",
     "text": [
      "[array([[1],\n",
      "       [3],\n",
      "       [5],\n",
      "       [7]]), array([[2],\n",
      "       [4],\n",
      "       [6],\n",
      "       [8]])]\n"
     ]
    }
   ],
   "source": [
    "print(np.hsplit(arr1, 2))"
   ]
  },
  {
   "cell_type": "code",
   "execution_count": 96,
   "id": "8a2537b9-65d7-4970-a42c-51e2f9a006d5",
   "metadata": {},
   "outputs": [
    {
     "name": "stdout",
     "output_type": "stream",
     "text": [
      "[1 1 1 2 2 2 3 3 3]\n"
     ]
    }
   ],
   "source": [
    "#Repeating:\n",
    "\n",
    "arr = np.array([1,2,3])\n",
    "print(np.repeat(arr,3))"
   ]
  },
  {
   "cell_type": "code",
   "execution_count": 97,
   "id": "e5066030-25fb-446c-b688-911ffe25f2a2",
   "metadata": {},
   "outputs": [
    {
     "name": "stdout",
     "output_type": "stream",
     "text": [
      "[1 2 3 1 2 3]\n"
     ]
    }
   ],
   "source": [
    "# tile -> repeat my whole array\n",
    "\n",
    "print(np.tile(arr, 2))"
   ]
  },
  {
   "cell_type": "code",
   "execution_count": 98,
   "id": "78e9cb73-ec3b-4583-a989-dcb1d2930219",
   "metadata": {},
   "outputs": [
    {
     "name": "stdout",
     "output_type": "stream",
     "text": [
      "6\n"
     ]
    }
   ],
   "source": [
    "#Aggregate Functions:\n",
    "\n",
    "arr = np.array([1,2,3])\n",
    "print(np.sum(arr))"
   ]
  },
  {
   "cell_type": "code",
   "execution_count": 99,
   "id": "06ed7619-4ac7-4252-b2a9-abd1f2969ba7",
   "metadata": {},
   "outputs": [
    {
     "data": {
      "text/plain": [
       "np.float64(2.0)"
      ]
     },
     "execution_count": 99,
     "metadata": {},
     "output_type": "execute_result"
    }
   ],
   "source": [
    "np.mean(arr)"
   ]
  },
  {
   "cell_type": "code",
   "execution_count": 100,
   "id": "22e1862a-0c0e-495b-b8ba-28cbda5244e4",
   "metadata": {},
   "outputs": [
    {
     "data": {
      "text/plain": [
       "np.float64(2.0)"
      ]
     },
     "execution_count": 100,
     "metadata": {},
     "output_type": "execute_result"
    }
   ],
   "source": [
    "np.median(arr)"
   ]
  },
  {
   "cell_type": "code",
   "execution_count": 101,
   "id": "403fbfec-505e-4a07-9d61-bdad4ef38a16",
   "metadata": {},
   "outputs": [
    {
     "data": {
      "text/plain": [
       "np.float64(0.816496580927726)"
      ]
     },
     "execution_count": 101,
     "metadata": {},
     "output_type": "execute_result"
    }
   ],
   "source": [
    "np.std(arr)"
   ]
  },
  {
   "cell_type": "code",
   "execution_count": 102,
   "id": "3f4ef8d0-09bb-4b74-8d9e-10933f8afe1d",
   "metadata": {},
   "outputs": [
    {
     "data": {
      "text/plain": [
       "np.float64(0.6666666666666666)"
      ]
     },
     "execution_count": 102,
     "metadata": {},
     "output_type": "execute_result"
    }
   ],
   "source": [
    "np.var(arr)"
   ]
  },
  {
   "cell_type": "code",
   "execution_count": 103,
   "id": "6ed5a812-c8bc-4346-8930-70674c5881b2",
   "metadata": {},
   "outputs": [
    {
     "data": {
      "text/plain": [
       "np.int64(3)"
      ]
     },
     "execution_count": 103,
     "metadata": {},
     "output_type": "execute_result"
    }
   ],
   "source": [
    "np.max(arr)\n"
   ]
  },
  {
   "cell_type": "code",
   "execution_count": 104,
   "id": "b3d13cd4-4a88-4424-8da2-32b73be6ba79",
   "metadata": {},
   "outputs": [
    {
     "data": {
      "text/plain": [
       "np.int64(1)"
      ]
     },
     "execution_count": 104,
     "metadata": {},
     "output_type": "execute_result"
    }
   ],
   "source": [
    "np.min(arr)"
   ]
  },
  {
   "cell_type": "code",
   "execution_count": 105,
   "id": "92178871-e5da-48d9-9295-26f4c3118e5b",
   "metadata": {},
   "outputs": [
    {
     "data": {
      "text/plain": [
       "array([[1, 2, 3],\n",
       "       [4, 5, 6],\n",
       "       [7, 8, 9]])"
      ]
     },
     "execution_count": 105,
     "metadata": {},
     "output_type": "execute_result"
    }
   ],
   "source": [
    "matrix"
   ]
  },
  {
   "cell_type": "code",
   "execution_count": 106,
   "id": "22e5f68e-0ac8-4bbc-8364-7700598f2702",
   "metadata": {},
   "outputs": [
    {
     "name": "stdout",
     "output_type": "stream",
     "text": [
      "[12 15 18]\n"
     ]
    }
   ],
   "source": [
    "print(np.sum(matrix, axis = 0))"
   ]
  },
  {
   "cell_type": "code",
   "execution_count": 107,
   "id": "cba6e6fa-c78f-43c5-8855-fe7e32b3d30a",
   "metadata": {},
   "outputs": [
    {
     "data": {
      "text/plain": [
       "array([1, 2, 3])"
      ]
     },
     "execution_count": 107,
     "metadata": {},
     "output_type": "execute_result"
    }
   ],
   "source": [
    "# Cumulative Operations -> running total\n",
    "\n",
    "arr"
   ]
  },
  {
   "cell_type": "code",
   "execution_count": 108,
   "id": "b646f46f-73bc-4820-904f-790a123db23e",
   "metadata": {},
   "outputs": [
    {
     "name": "stdout",
     "output_type": "stream",
     "text": [
      "[1 3 6]\n"
     ]
    }
   ],
   "source": [
    "print(np.cumsum(arr))"
   ]
  },
  {
   "cell_type": "code",
   "execution_count": 109,
   "id": "98489026-e955-4f63-ac4e-2cc17bfe6c0c",
   "metadata": {},
   "outputs": [
    {
     "name": "stdout",
     "output_type": "stream",
     "text": [
      "[1 2 6]\n"
     ]
    }
   ],
   "source": [
    "print(np.cumprod(arr))"
   ]
  },
  {
   "cell_type": "code",
   "execution_count": 110,
   "id": "5fa463f0-21de-4c6d-b665-42a4d254aa14",
   "metadata": {},
   "outputs": [
    {
     "data": {
      "text/plain": [
       "array([1, 2, 3])"
      ]
     },
     "execution_count": 110,
     "metadata": {},
     "output_type": "execute_result"
    }
   ],
   "source": [
    "#CONDITIONAL BASED CHOICES\n",
    "\n",
    "# Where:\n",
    "\n",
    "arr\n"
   ]
  },
  {
   "cell_type": "code",
   "execution_count": 112,
   "id": "74a395f3-0f40-4e6f-a607-fbe29c76f7d4",
   "metadata": {},
   "outputs": [],
   "source": [
    "result = np.where(arr <2, \"low\", \"high\")"
   ]
  },
  {
   "cell_type": "code",
   "execution_count": 113,
   "id": "0af2e580-0987-4998-8e81-865ba704f3bb",
   "metadata": {},
   "outputs": [
    {
     "data": {
      "text/plain": [
       "array(['low', 'high', 'high'], dtype='<U4')"
      ]
     },
     "execution_count": 113,
     "metadata": {},
     "output_type": "execute_result"
    }
   ],
   "source": [
    "result\n"
   ]
  },
  {
   "cell_type": "code",
   "execution_count": 114,
   "id": "b30e368e-5b7f-4d69-a746-e2ea36157dfd",
   "metadata": {},
   "outputs": [
    {
     "data": {
      "text/plain": [
       "array([1, 2, 3])"
      ]
     },
     "execution_count": 114,
     "metadata": {},
     "output_type": "execute_result"
    }
   ],
   "source": [
    "arr"
   ]
  },
  {
   "cell_type": "code",
   "execution_count": 115,
   "id": "6b8c654e-6b10-446a-932f-7875bf50dad5",
   "metadata": {},
   "outputs": [],
   "source": [
    "#argwhere: row-column positions for 2d arrays"
   ]
  },
  {
   "cell_type": "code",
   "execution_count": 116,
   "id": "5c964a64-4cde-4373-b677-360a61de4825",
   "metadata": {},
   "outputs": [
    {
     "data": {
      "text/plain": [
       "array([1, 2, 3])"
      ]
     },
     "execution_count": 116,
     "metadata": {},
     "output_type": "execute_result"
    }
   ],
   "source": [
    "arr\n"
   ]
  },
  {
   "cell_type": "code",
   "execution_count": 117,
   "id": "69f949f9-4809-4c1b-9b8d-86232121309c",
   "metadata": {},
   "outputs": [
    {
     "name": "stdout",
     "output_type": "stream",
     "text": [
      "[[0]\n",
      " [1]\n",
      " [2]]\n"
     ]
    }
   ],
   "source": [
    "print(np.argwhere(arr>0))"
   ]
  },
  {
   "cell_type": "code",
   "execution_count": 118,
   "id": "e586896c-9049-444a-9742-79416b1e5afb",
   "metadata": {},
   "outputs": [
    {
     "data": {
      "text/plain": [
       "array([[1, 2, 3],\n",
       "       [4, 5, 6],\n",
       "       [7, 8, 9]])"
      ]
     },
     "execution_count": 118,
     "metadata": {},
     "output_type": "execute_result"
    }
   ],
   "source": [
    "matrix"
   ]
  },
  {
   "cell_type": "code",
   "execution_count": 119,
   "id": "61f6dbb0-4ccb-4308-8f3a-1f1d32bdfaa0",
   "metadata": {},
   "outputs": [
    {
     "name": "stdout",
     "output_type": "stream",
     "text": [
      "[[1 2]\n",
      " [2 0]\n",
      " [2 1]\n",
      " [2 2]]\n"
     ]
    }
   ],
   "source": [
    "print(np.argwhere(matrix> 5))"
   ]
  },
  {
   "cell_type": "code",
   "execution_count": 120,
   "id": "ae52de5f-9380-4d62-b214-3edc87fa7f29",
   "metadata": {},
   "outputs": [
    {
     "data": {
      "text/plain": [
       "array([1, 2, 3])"
      ]
     },
     "execution_count": 120,
     "metadata": {},
     "output_type": "execute_result"
    }
   ],
   "source": [
    "# Logical and:\n",
    "\n",
    "arr"
   ]
  },
  {
   "cell_type": "code",
   "execution_count": 121,
   "id": "5ad253f6-d533-483f-878b-ef5ceac32b4b",
   "metadata": {},
   "outputs": [],
   "source": [
    "mask = np.logical_and(arr > 3, arr < 6)"
   ]
  },
  {
   "cell_type": "code",
   "execution_count": 122,
   "id": "a9501e9b-0629-4a02-ac36-f0cd483ac9e5",
   "metadata": {},
   "outputs": [
    {
     "data": {
      "text/plain": [
       "array([], dtype=int64)"
      ]
     },
     "execution_count": 122,
     "metadata": {},
     "output_type": "execute_result"
    }
   ],
   "source": [
    "arr[mask]"
   ]
  },
  {
   "cell_type": "code",
   "execution_count": 123,
   "id": "c8dca55b-9d85-473b-b4dd-50f8caed499a",
   "metadata": {},
   "outputs": [
    {
     "data": {
      "text/plain": [
       "array([ True,  True,  True])"
      ]
     },
     "execution_count": 123,
     "metadata": {},
     "output_type": "execute_result"
    }
   ],
   "source": [
    "# logical or:\n",
    "\n",
    "mask = np.logical_or(arr < 4, arr > 5)\n",
    "mask"
   ]
  },
  {
   "cell_type": "code",
   "execution_count": 124,
   "id": "c436808e-b0cd-4379-b9d5-a4bdcc0f64b3",
   "metadata": {},
   "outputs": [
    {
     "data": {
      "text/plain": [
       "array([1, 2, 3])"
      ]
     },
     "execution_count": 124,
     "metadata": {},
     "output_type": "execute_result"
    }
   ],
   "source": [
    "arr[mask]"
   ]
  },
  {
   "cell_type": "code",
   "execution_count": 125,
   "id": "cedfc213-8ad0-48eb-8e1d-92975e316fd7",
   "metadata": {},
   "outputs": [
    {
     "data": {
      "text/plain": [
       "array([0, 1, 5, 0, 5])"
      ]
     },
     "execution_count": 125,
     "metadata": {},
     "output_type": "execute_result"
    }
   ],
   "source": [
    "arr2 = np.array([0, 1, 5, 0, 5])\n",
    "arr2"
   ]
  },
  {
   "cell_type": "code",
   "execution_count": 126,
   "id": "07afb6be-2ce0-43fa-b718-6b05a3552f3f",
   "metadata": {},
   "outputs": [
    {
     "name": "stdout",
     "output_type": "stream",
     "text": [
      "(array([1, 2, 4]),)\n"
     ]
    }
   ],
   "source": [
    "print(np.nonzero(arr2))"
   ]
  },
  {
   "cell_type": "code",
   "execution_count": 127,
   "id": "2e6d8b9a-3b58-480d-a850-fbd5247770ba",
   "metadata": {},
   "outputs": [],
   "source": [
    "# Broadcasting"
   ]
  },
  {
   "cell_type": "code",
   "execution_count": 128,
   "id": "b72b3c94-b281-4f57-b296-6d53c5f6f394",
   "metadata": {},
   "outputs": [
    {
     "data": {
      "text/plain": [
       "(2, 2)"
      ]
     },
     "execution_count": 128,
     "metadata": {},
     "output_type": "execute_result"
    }
   ],
   "source": [
    "image = np.array([[200, 150], [100, 250]])\n",
    "image.shape"
   ]
  },
  {
   "cell_type": "code",
   "execution_count": 129,
   "id": "d0d7a8b3-87bb-4b8c-a383-cd56ff1565c4",
   "metadata": {},
   "outputs": [
    {
     "data": {
      "text/plain": [
       "array([[250, 200],\n",
       "       [150, 300]])"
      ]
     },
     "execution_count": 129,
     "metadata": {},
     "output_type": "execute_result"
    }
   ],
   "source": [
    "brightness = image + 50\n",
    "brightness"
   ]
  },
  {
   "cell_type": "code",
   "execution_count": 130,
   "id": "d52d9f72-6d4d-4d7d-bc28-76dd343ffd1a",
   "metadata": {},
   "outputs": [],
   "source": [
    "# Vectorization:\n",
    "\n",
    "# np.vectorize() -> convert a regular function to be applied on an array."
   ]
  },
  {
   "cell_type": "code",
   "execution_count": 131,
   "id": "dafb474d-62d3-4e5a-884f-96e584a6a869",
   "metadata": {},
   "outputs": [],
   "source": [
    "def square(x):\n",
    "  return x*x\n",
    "\n",
    "vfunc = np.vectorize(square)"
   ]
  },
  {
   "cell_type": "code",
   "execution_count": 132,
   "id": "56b1afdd-2e6f-48d8-9c19-2e327a1c1268",
   "metadata": {},
   "outputs": [
    {
     "data": {
      "text/plain": [
       "array([1, 2, 3])"
      ]
     },
     "execution_count": 132,
     "metadata": {},
     "output_type": "execute_result"
    }
   ],
   "source": [
    "arr"
   ]
  },
  {
   "cell_type": "code",
   "execution_count": 133,
   "id": "f184cf12-742c-441c-b443-fb4a0d095f97",
   "metadata": {},
   "outputs": [
    {
     "name": "stdout",
     "output_type": "stream",
     "text": [
      "[1 4 9]\n"
     ]
    }
   ],
   "source": [
    "print(vfunc(arr))"
   ]
  },
  {
   "cell_type": "code",
   "execution_count": 134,
   "id": "b0336e61-5611-48f4-98a8-226caf965ee4",
   "metadata": {},
   "outputs": [],
   "source": [
    "# Dealing With Missing values:\n",
    "\n",
    "# np.nan -> not a number."
   ]
  },
  {
   "cell_type": "code",
   "execution_count": 135,
   "id": "079b16a8-3ff2-420f-8ba7-cadac30f4eba",
   "metadata": {},
   "outputs": [],
   "source": [
    "a = np.array([1, 2, np.nan, 4])"
   ]
  },
  {
   "cell_type": "code",
   "execution_count": 136,
   "id": "e7417658-bc41-467e-81f5-48b8d2bc0558",
   "metadata": {},
   "outputs": [
    {
     "data": {
      "text/plain": [
       "array([ 1.,  2., nan,  4.])"
      ]
     },
     "execution_count": 136,
     "metadata": {},
     "output_type": "execute_result"
    }
   ],
   "source": [
    "a"
   ]
  },
  {
   "cell_type": "code",
   "execution_count": 137,
   "id": "dd394851-e549-407d-a190-60c3d2f524e5",
   "metadata": {},
   "outputs": [],
   "source": [
    "# np.inf and -np.inf -> positive and negative infinites"
   ]
  },
  {
   "cell_type": "code",
   "execution_count": 138,
   "id": "93c8a5a8-abb1-4391-a07e-a3e6b8da256d",
   "metadata": {},
   "outputs": [],
   "source": [
    "# np.isnan\n",
    "# np.isinf\n",
    "# np.isfinite\n",
    "\n",
    "# --> these are the functions used to detect any null values, infinte value or fnite value"
   ]
  },
  {
   "cell_type": "code",
   "execution_count": 139,
   "id": "30980463-b84a-4843-8e0b-742e233c2134",
   "metadata": {},
   "outputs": [
    {
     "name": "stdout",
     "output_type": "stream",
     "text": [
      "[False False  True False]\n"
     ]
    }
   ],
   "source": [
    "print(np.isnan(a))"
   ]
  },
  {
   "cell_type": "code",
   "execution_count": 140,
   "id": "54a7a28c-c6f2-4481-8f5a-2ec47b706b7a",
   "metadata": {},
   "outputs": [],
   "source": [
    "b = np.array([1, np.nan, np.inf, 10.2, 40])"
   ]
  },
  {
   "cell_type": "code",
   "execution_count": 141,
   "id": "7394782c-9206-4d9b-98db-5e7a4169ee06",
   "metadata": {},
   "outputs": [
    {
     "name": "stdout",
     "output_type": "stream",
     "text": [
      "[False False  True False False]\n"
     ]
    }
   ],
   "source": [
    "print(np.isinf(b))"
   ]
  },
  {
   "cell_type": "code",
   "execution_count": 142,
   "id": "1a49c62d-603a-4925-a365-b03358f57db1",
   "metadata": {},
   "outputs": [],
   "source": [
    "new_b = np.nan_to_num(b) # remove Nan/ infinite values."
   ]
  },
  {
   "cell_type": "code",
   "execution_count": 143,
   "id": "c5c71f1f-7faf-4983-957c-65e01dd1117f",
   "metadata": {},
   "outputs": [
    {
     "data": {
      "text/plain": [
       "array([1.00000000e+000, 0.00000000e+000, 1.79769313e+308, 1.02000000e+001,\n",
       "       4.00000000e+001])"
      ]
     },
     "execution_count": 143,
     "metadata": {},
     "output_type": "execute_result"
    }
   ],
   "source": [
    "new_b"
   ]
  },
  {
   "cell_type": "code",
   "execution_count": null,
   "id": "74891800-c033-49ba-883b-eeb41b56a771",
   "metadata": {},
   "outputs": [],
   "source": []
  }
 ],
 "metadata": {
  "kernelspec": {
   "display_name": "Python [conda env:base] *",
   "language": "python",
   "name": "conda-base-py"
  },
  "language_info": {
   "codemirror_mode": {
    "name": "ipython",
    "version": 3
   },
   "file_extension": ".py",
   "mimetype": "text/x-python",
   "name": "python",
   "nbconvert_exporter": "python",
   "pygments_lexer": "ipython3",
   "version": "3.13.5"
  }
 },
 "nbformat": 4,
 "nbformat_minor": 5
}
